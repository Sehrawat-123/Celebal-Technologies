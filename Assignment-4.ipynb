{
 "cells": [
  {
   "cell_type": "code",
   "execution_count": 1,
   "id": "6b9b0514",
   "metadata": {},
   "outputs": [
    {
     "name": "stdout",
     "output_type": "stream",
     "text": [
      "   Region   Age   Income Online Shopper\n",
      "0   India  49.0  86400.0             No\n",
      "1  Brazil  32.0  57600.0            Yes\n",
      "2     USA  35.0  64800.0             No\n",
      "3  Brazil  43.0  73200.0             No\n",
      "4     USA  45.0      NaN            Yes\n"
     ]
    }
   ],
   "source": [
    "import pandas as pd\n",
    "# Load dataset\n",
    "data = pd.read_csv('DataPreprocessing.csv')\n",
    "print(data.head())"
   ]
  },
  {
   "cell_type": "code",
   "execution_count": 2,
   "id": "e8128f0c",
   "metadata": {},
   "outputs": [
    {
     "name": "stdout",
     "output_type": "stream",
     "text": [
      "   Region        Age        Income Online Shopper\n",
      "0   India  49.000000  86400.000000             No\n",
      "1  Brazil  32.000000  57600.000000            Yes\n",
      "2     USA  35.000000  64800.000000             No\n",
      "3  Brazil  43.000000  73200.000000             No\n",
      "4     USA  45.000000  76533.333333            Yes\n",
      "5   India  40.000000  69600.000000            Yes\n",
      "6  Brazil  43.777778  62400.000000             No\n",
      "7   India  53.000000  94800.000000            Yes\n",
      "8     USA  55.000000  99600.000000             No\n",
      "9   India  42.000000  80400.000000            Yes\n"
     ]
    }
   ],
   "source": [
    "# Fill missing values with the mean for numerical columns\n",
    "data['Age'].fillna(data['Age'].mean(), inplace=True)\n",
    "data['Income'].fillna(data['Income'].mean(), inplace=True)\n",
    "\n",
    "print(data)\n"
   ]
  },
  {
   "cell_type": "code",
   "execution_count": 3,
   "id": "2593740b",
   "metadata": {},
   "outputs": [
    {
     "name": "stdout",
     "output_type": "stream",
     "text": [
      "         Age        Income  Online Shopper  Region_Brazil  Region_India  \\\n",
      "0  49.000000  86400.000000               0              0             1   \n",
      "1  32.000000  57600.000000               1              1             0   \n",
      "2  35.000000  64800.000000               0              0             0   \n",
      "3  43.000000  73200.000000               0              1             0   \n",
      "4  45.000000  76533.333333               1              0             0   \n",
      "5  40.000000  69600.000000               1              0             1   \n",
      "6  43.777778  62400.000000               0              1             0   \n",
      "7  53.000000  94800.000000               1              0             1   \n",
      "8  55.000000  99600.000000               0              0             0   \n",
      "9  42.000000  80400.000000               1              0             1   \n",
      "\n",
      "   Region_USA  \n",
      "0           0  \n",
      "1           0  \n",
      "2           1  \n",
      "3           0  \n",
      "4           1  \n",
      "5           0  \n",
      "6           0  \n",
      "7           0  \n",
      "8           1  \n",
      "9           0  \n"
     ]
    }
   ],
   "source": [
    "from sklearn.preprocessing import OneHotEncoder, LabelEncoder\n",
    "\n",
    "# One-hot encoding for categorical features\n",
    "data = pd.get_dummies(data, columns=['Region'])\n",
    "\n",
    "# Label encoding for the target variable\n",
    "label_encoder = LabelEncoder()\n",
    "data['Online Shopper'] = label_encoder.fit_transform(data['Online Shopper'])\n",
    "\n",
    "print(data)\n"
   ]
  },
  {
   "cell_type": "code",
   "execution_count": 4,
   "id": "a2cd2293",
   "metadata": {},
   "outputs": [
    {
     "name": "stdout",
     "output_type": "stream",
     "text": [
      "        Age    Income  Online Shopper  Region_Brazil  Region_India  Region_USA\n",
      "0  0.758874  0.749473               0              0             1           0\n",
      "1 -1.711504 -1.438178               1              1             0           0\n",
      "2 -1.275555 -0.891265               0              0             0           1\n",
      "3 -0.113024 -0.253200               0              1             0           0\n",
      "4  0.177609  0.000000               1              0             0           1\n",
      "5 -0.548973 -0.526657               1              0             1           0\n",
      "6  0.000000 -1.073570               0              1             0           0\n",
      "7  1.340140  1.387538               1              0             1           0\n",
      "8  1.630773  1.752147               0              0             0           1\n",
      "9 -0.258340  0.293712               1              0             1           0\n"
     ]
    }
   ],
   "source": [
    "from sklearn.preprocessing import StandardScaler\n",
    "\n",
    "# Standard scaling (mean=0, std=1)\n",
    "scaler = StandardScaler()\n",
    "data[['Age', 'Income']] = scaler.fit_transform(data[['Age', 'Income']])\n",
    "\n",
    "print(data)\n"
   ]
  },
  {
   "cell_type": "code",
   "execution_count": 5,
   "id": "728d1372",
   "metadata": {},
   "outputs": [
    {
     "name": "stdout",
     "output_type": "stream",
     "text": [
      "        Age    Income  Online Shopper  Region_Brazil  Region_India  Region_USA\n",
      "0  0.758874  0.749473               0              0             1           0\n",
      "1 -1.711504 -1.438178               1              1             0           0\n",
      "2 -1.275555 -0.891265               0              0             0           1\n",
      "3 -0.113024 -0.253200               0              1             0           0\n",
      "4  0.177609  0.000000               1              0             0           1\n",
      "5 -0.548973 -0.526657               1              0             1           0\n",
      "6  0.000000 -1.073570               0              1             0           0\n",
      "7  1.340140  1.387538               1              0             1           0\n",
      "8  1.630773  1.752147               0              0             0           1\n",
      "9 -0.258340  0.293712               1              0             1           0\n"
     ]
    }
   ],
   "source": [
    "# Example of creating interaction features (commented out as it's not required for this dataset)\n",
    "# data['Age_Income'] = data['Age'] * data['Income']\n",
    "\n",
    "# Example of creating polynomial features (commented out as it's not required for this dataset)\n",
    "# data['Age_squared'] = data['Age'] ** 2\n",
    "# data['Income_squared'] = data['Income'] ** 2\n",
    "\n",
    "print(data)\n"
   ]
  },
  {
   "cell_type": "code",
   "execution_count": 6,
   "id": "4e57b130",
   "metadata": {},
   "outputs": [
    {
     "name": "stdout",
     "output_type": "stream",
     "text": [
      "        Age    Income  Region_Brazil  Region_India  Region_USA\n",
      "5 -0.548973 -0.526657              0             1           0\n",
      "0  0.758874  0.749473              0             1           0\n",
      "7  1.340140  1.387538              0             1           0\n",
      "2 -1.275555 -0.891265              0             0           1\n",
      "9 -0.258340  0.293712              0             1           0\n",
      "5    1\n",
      "0    0\n",
      "7    1\n",
      "2    0\n",
      "9    1\n",
      "Name: Online Shopper, dtype: int32\n"
     ]
    }
   ],
   "source": [
    "from sklearn.model_selection import train_test_split\n",
    "\n",
    "# Define feature columns and target column\n",
    "X = data.drop('Online Shopper', axis=1)\n",
    "y = data['Online Shopper']\n",
    "\n",
    "# Split data\n",
    "X_train, X_test, y_train, y_test = train_test_split(X, y, test_size=0.2, random_state=42)\n",
    "\n",
    "print(X_train.head())\n",
    "print(y_train.head())\n"
   ]
  },
  {
   "cell_type": "code",
   "execution_count": null,
   "id": "9a4f3bc1",
   "metadata": {},
   "outputs": [],
   "source": []
  }
 ],
 "metadata": {
  "kernelspec": {
   "display_name": "Python 3 (ipykernel)",
   "language": "python",
   "name": "python3"
  },
  "language_info": {
   "codemirror_mode": {
    "name": "ipython",
    "version": 3
   },
   "file_extension": ".py",
   "mimetype": "text/x-python",
   "name": "python",
   "nbconvert_exporter": "python",
   "pygments_lexer": "ipython3",
   "version": "3.10.9"
  }
 },
 "nbformat": 4,
 "nbformat_minor": 5
}
